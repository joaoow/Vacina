{
  "nbformat": 4,
  "nbformat_minor": 0,
  "metadata": {
    "colab": {
      "provenance": []
    },
    "kernelspec": {
      "name": "python3",
      "display_name": "Python 3"
    },
    "language_info": {
      "name": "python"
    }
  },
  "cells": [
    {
      "cell_type": "code",
      "source": [
        "idade = eval(input('Digite a idade: '))\n",
        "if(idade < 5):\n",
        "  print('A criança deve ser vacinada contra a gripe')\n",
        "  print('Procure o posto de saúde mais próximo.')\n",
        "elif(idade == 5, idade > 5):\n",
        "  print('A vacina estára disponibilizada na semana que vem!')\n",
        "  print('Aguarde as próximas informações.')\n",
        "else:\n",
        "    print('A vacinação só ocorrerá daqui a 3 meses.')\n",
        "    print('Informe-se novamente neste prazo.')\n",
        "    print('Cuide da saúde sempre. Até a próxima.')\n",
        "\n"
      ],
      "metadata": {
        "colab": {
          "base_uri": "https://localhost:8080/"
        },
        "id": "TrcKd619TFZk",
        "outputId": "3bcd0041-44b3-4b24-aae6-443a9afdb871"
      },
      "execution_count": 18,
      "outputs": [
        {
          "output_type": "stream",
          "name": "stdout",
          "text": [
            "Digite a idade: 7\n",
            "A vacina estára disponibilizada na semana que vem!\n",
            "Aguarde as próximas informações.\n"
          ]
        }
      ]
    }
  ]
}